{
 "cells": [
  {
   "cell_type": "markdown",
   "id": "05e34b3d",
   "metadata": {},
   "source": [
    "# Data Types"
   ]
  },
  {
   "cell_type": "markdown",
   "id": "9b719a9f",
   "metadata": {},
   "source": [
    "## Numbers"
   ]
  },
  {
   "cell_type": "code",
   "execution_count": 1,
   "id": "75e9af2b",
   "metadata": {},
   "outputs": [
    {
     "data": {
      "text/plain": [
       "4"
      ]
     },
     "execution_count": 1,
     "metadata": {},
     "output_type": "execute_result"
    }
   ],
   "source": [
    "2 + 2"
   ]
  },
  {
   "cell_type": "code",
   "execution_count": 2,
   "id": "e4a857fd",
   "metadata": {},
   "outputs": [
    {
     "data": {
      "text/plain": [
       "6"
      ]
     },
     "execution_count": 2,
     "metadata": {},
     "output_type": "execute_result"
    }
   ],
   "source": [
    "2 * 3"
   ]
  },
  {
   "cell_type": "code",
   "execution_count": 3,
   "id": "951997f1",
   "metadata": {},
   "outputs": [
    {
     "data": {
      "text/plain": [
       "0.5"
      ]
     },
     "execution_count": 3,
     "metadata": {},
     "output_type": "execute_result"
    }
   ],
   "source": [
    "1 / 2"
   ]
  },
  {
   "cell_type": "code",
   "execution_count": 4,
   "id": "a393ef9b",
   "metadata": {},
   "outputs": [
    {
     "data": {
      "text/plain": [
       "8"
      ]
     },
     "execution_count": 4,
     "metadata": {},
     "output_type": "execute_result"
    }
   ],
   "source": [
    "2 ** 3"
   ]
  },
  {
   "cell_type": "code",
   "execution_count": 7,
   "id": "3e29f414",
   "metadata": {},
   "outputs": [
    {
     "data": {
      "text/plain": [
       "10"
      ]
     },
     "execution_count": 7,
     "metadata": {},
     "output_type": "execute_result"
    }
   ],
   "source": [
    "1 + 1 * 4 + 5"
   ]
  },
  {
   "cell_type": "code",
   "execution_count": 8,
   "id": "7f03c6c5",
   "metadata": {},
   "outputs": [
    {
     "data": {
      "text/plain": [
       "18"
      ]
     },
     "execution_count": 8,
     "metadata": {},
     "output_type": "execute_result"
    }
   ],
   "source": [
    "(1 + 1) * (4 + 5)"
   ]
  },
  {
   "cell_type": "code",
   "execution_count": 9,
   "id": "500e31d4",
   "metadata": {},
   "outputs": [
    {
     "data": {
      "text/plain": [
       "0"
      ]
     },
     "execution_count": 9,
     "metadata": {},
     "output_type": "execute_result"
    }
   ],
   "source": [
    "# remainder\n",
    "9 % 3"
   ]
  },
  {
   "cell_type": "code",
   "execution_count": 10,
   "id": "6b45bade",
   "metadata": {},
   "outputs": [
    {
     "data": {
      "text/plain": [
       "1"
      ]
     },
     "execution_count": 10,
     "metadata": {},
     "output_type": "execute_result"
    }
   ],
   "source": [
    "10 % 3"
   ]
  },
  {
   "cell_type": "code",
   "execution_count": 11,
   "id": "12f4d425",
   "metadata": {},
   "outputs": [],
   "source": [
    "lito = 3"
   ]
  },
  {
   "cell_type": "code",
   "execution_count": 12,
   "id": "fb1c8360",
   "metadata": {},
   "outputs": [
    {
     "data": {
      "text/plain": [
       "3"
      ]
     },
     "execution_count": 12,
     "metadata": {},
     "output_type": "execute_result"
    }
   ],
   "source": [
    "lito"
   ]
  },
  {
   "cell_type": "code",
   "execution_count": 13,
   "id": "08ac0f67",
   "metadata": {},
   "outputs": [],
   "source": [
    "a = 3\n",
    "b = 4"
   ]
  },
  {
   "cell_type": "code",
   "execution_count": 14,
   "id": "3a08a537",
   "metadata": {},
   "outputs": [
    {
     "data": {
      "text/plain": [
       "12"
      ]
     },
     "execution_count": 14,
     "metadata": {},
     "output_type": "execute_result"
    }
   ],
   "source": [
    "a * b"
   ]
  },
  {
   "cell_type": "code",
   "execution_count": 15,
   "id": "78ee513e",
   "metadata": {},
   "outputs": [],
   "source": [
    "a = a * b"
   ]
  },
  {
   "cell_type": "code",
   "execution_count": 16,
   "id": "f09dd35a",
   "metadata": {},
   "outputs": [
    {
     "data": {
      "text/plain": [
       "12"
      ]
     },
     "execution_count": 16,
     "metadata": {},
     "output_type": "execute_result"
    }
   ],
   "source": [
    "a"
   ]
  },
  {
   "cell_type": "markdown",
   "id": "e866dc09",
   "metadata": {},
   "source": [
    "## Strings"
   ]
  },
  {
   "cell_type": "code",
   "execution_count": 18,
   "id": "4886c40e",
   "metadata": {},
   "outputs": [
    {
     "data": {
      "text/plain": [
       "'minzone and alteration'"
      ]
     },
     "execution_count": 18,
     "metadata": {},
     "output_type": "execute_result"
    }
   ],
   "source": [
    "'minzone and alteration'"
   ]
  },
  {
   "cell_type": "code",
   "execution_count": 19,
   "id": "60ac46db",
   "metadata": {},
   "outputs": [
    {
     "data": {
      "text/plain": [
       "'minzone and alteration'"
      ]
     },
     "execution_count": 19,
     "metadata": {},
     "output_type": "execute_result"
    }
   ],
   "source": [
    "\"minzone and alteration\""
   ]
  },
  {
   "cell_type": "code",
   "execution_count": 26,
   "id": "5c27e2e2",
   "metadata": {},
   "outputs": [
    {
     "data": {
      "text/plain": [
       "\"minzone don't include andesites\""
      ]
     },
     "execution_count": 26,
     "metadata": {},
     "output_type": "execute_result"
    }
   ],
   "source": [
    "\"minzone don't include andesites\"\n",
    "# try to use the same type of quote"
   ]
  },
  {
   "cell_type": "code",
   "execution_count": 27,
   "id": "94ca42b5",
   "metadata": {},
   "outputs": [],
   "source": [
    "lito = 'Porphyry'\n",
    "# Try to remove the quotes"
   ]
  },
  {
   "cell_type": "code",
   "execution_count": 30,
   "id": "a23df2a9",
   "metadata": {},
   "outputs": [
    {
     "data": {
      "text/plain": [
       "'Porphyry'"
      ]
     },
     "execution_count": 30,
     "metadata": {},
     "output_type": "execute_result"
    }
   ],
   "source": [
    "lito"
   ]
  },
  {
   "cell_type": "code",
   "execution_count": 33,
   "id": "80ae4b29",
   "metadata": {},
   "outputs": [],
   "source": [
    "# Format string\n",
    "drillhole = 'DH-100'\n",
    "name = 'John Smith'"
   ]
  },
  {
   "cell_type": "code",
   "execution_count": 35,
   "id": "cce80e10",
   "metadata": {},
   "outputs": [
    {
     "data": {
      "text/plain": [
       "'Geologist John Smith logged the hole DH-100'"
      ]
     },
     "execution_count": 35,
     "metadata": {},
     "output_type": "execute_result"
    }
   ],
   "source": [
    "'Geologist {} logged the hole {}'.format(name,drillhole)"
   ]
  },
  {
   "cell_type": "code",
   "execution_count": 36,
   "id": "b170ca77",
   "metadata": {},
   "outputs": [
    {
     "name": "stdout",
     "output_type": "stream",
     "text": [
      "Geologist John Smith logged the hole DH-100\n"
     ]
    }
   ],
   "source": [
    "print('Geologist {} logged the hole {}'.format(name,drillhole))"
   ]
  },
  {
   "cell_type": "code",
   "execution_count": 37,
   "id": "1ebfefb9",
   "metadata": {},
   "outputs": [
    {
     "data": {
      "text/plain": [
       "'D'"
      ]
     },
     "execution_count": 37,
     "metadata": {},
     "output_type": "execute_result"
    }
   ],
   "source": [
    "# indexing\n",
    "drillhole[0]"
   ]
  },
  {
   "cell_type": "code",
   "execution_count": 38,
   "id": "d7860df9",
   "metadata": {},
   "outputs": [
    {
     "data": {
      "text/plain": [
       "'1'"
      ]
     },
     "execution_count": 38,
     "metadata": {},
     "output_type": "execute_result"
    }
   ],
   "source": [
    "drillhole[3]"
   ]
  },
  {
   "cell_type": "code",
   "execution_count": 39,
   "id": "69208292",
   "metadata": {},
   "outputs": [
    {
     "data": {
      "text/plain": [
       "'100'"
      ]
     },
     "execution_count": 39,
     "metadata": {},
     "output_type": "execute_result"
    }
   ],
   "source": [
    "# slicing\n",
    "drillhole[3:]"
   ]
  },
  {
   "cell_type": "markdown",
   "id": "f05b22ca",
   "metadata": {},
   "source": [
    "## Lists"
   ]
  },
  {
   "cell_type": "code",
   "execution_count": 40,
   "id": "c45235d1",
   "metadata": {},
   "outputs": [],
   "source": [
    "minzone = ['OX', 'SS', 'PRIM']"
   ]
  },
  {
   "cell_type": "code",
   "execution_count": 41,
   "id": "6353d8ff",
   "metadata": {},
   "outputs": [
    {
     "data": {
      "text/plain": [
       "['OX', 'SS', 'PRIM']"
      ]
     },
     "execution_count": 41,
     "metadata": {},
     "output_type": "execute_result"
    }
   ],
   "source": [
    "minzones"
   ]
  },
  {
   "cell_type": "code",
   "execution_count": 42,
   "id": "c238423b",
   "metadata": {},
   "outputs": [],
   "source": [
    "lith = ['AND', 'DYKE']"
   ]
  },
  {
   "cell_type": "code",
   "execution_count": 43,
   "id": "165ae9b4",
   "metadata": {},
   "outputs": [
    {
     "data": {
      "text/plain": [
       "['AND', 'DYKE']"
      ]
     },
     "execution_count": 43,
     "metadata": {},
     "output_type": "execute_result"
    }
   ],
   "source": [
    "lith"
   ]
  },
  {
   "cell_type": "code",
   "execution_count": 44,
   "id": "454735e6",
   "metadata": {},
   "outputs": [],
   "source": [
    "# append\n",
    "lith.append('TUFF')"
   ]
  },
  {
   "cell_type": "code",
   "execution_count": 45,
   "id": "4d9bb535",
   "metadata": {},
   "outputs": [
    {
     "data": {
      "text/plain": [
       "['AND', 'DYKE', 'TUFF']"
      ]
     },
     "execution_count": 45,
     "metadata": {},
     "output_type": "execute_result"
    }
   ],
   "source": [
    "lith"
   ]
  },
  {
   "cell_type": "code",
   "execution_count": 46,
   "id": "3e9d9549",
   "metadata": {},
   "outputs": [
    {
     "data": {
      "text/plain": [
       "'TUFF'"
      ]
     },
     "execution_count": 46,
     "metadata": {},
     "output_type": "execute_result"
    }
   ],
   "source": [
    "lith[2]"
   ]
  },
  {
   "cell_type": "code",
   "execution_count": 47,
   "id": "40bd1833",
   "metadata": {},
   "outputs": [],
   "source": [
    "# list inside lists\n",
    "lith_in_gmu = ['AND', ['DYKE', 'TUFF']]"
   ]
  },
  {
   "cell_type": "code",
   "execution_count": 48,
   "id": "fe435740",
   "metadata": {},
   "outputs": [
    {
     "data": {
      "text/plain": [
       "['DYKE', 'TUFF']"
      ]
     },
     "execution_count": 48,
     "metadata": {},
     "output_type": "execute_result"
    }
   ],
   "source": [
    "lith_in_gmu[1]"
   ]
  },
  {
   "cell_type": "code",
   "execution_count": 49,
   "id": "670e2f37",
   "metadata": {},
   "outputs": [
    {
     "data": {
      "text/plain": [
       "'DYKE'"
      ]
     },
     "execution_count": 49,
     "metadata": {},
     "output_type": "execute_result"
    }
   ],
   "source": [
    "lith_in_gmu[1][0]"
   ]
  },
  {
   "cell_type": "code",
   "execution_count": null,
   "id": "bcb70729",
   "metadata": {},
   "outputs": [],
   "source": [
    "###################  END OF PYTHON PART ONE  #####################"
   ]
  }
 ],
 "metadata": {
  "kernelspec": {
   "display_name": "Python 3 (ipykernel)",
   "language": "python",
   "name": "python3"
  },
  "language_info": {
   "codemirror_mode": {
    "name": "ipython",
    "version": 3
   },
   "file_extension": ".py",
   "mimetype": "text/x-python",
   "name": "python",
   "nbconvert_exporter": "python",
   "pygments_lexer": "ipython3",
   "version": "3.9.12"
  },
  "toc": {
   "base_numbering": 1,
   "nav_menu": {},
   "number_sections": true,
   "sideBar": true,
   "skip_h1_title": false,
   "title_cell": "Table of Contents",
   "title_sidebar": "Contents",
   "toc_cell": false,
   "toc_position": {},
   "toc_section_display": true,
   "toc_window_display": true
  }
 },
 "nbformat": 4,
 "nbformat_minor": 5
}
