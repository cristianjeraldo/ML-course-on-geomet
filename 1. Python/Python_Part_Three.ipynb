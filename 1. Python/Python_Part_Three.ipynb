{
 "cells": [
  {
   "cell_type": "markdown",
   "id": "e55355d5",
   "metadata": {},
   "source": [
    "# Comparison Operators"
   ]
  },
  {
   "cell_type": "code",
   "execution_count": 1,
   "id": "ea81225b",
   "metadata": {},
   "outputs": [],
   "source": [
    "# Boolean results"
   ]
  },
  {
   "cell_type": "code",
   "execution_count": 2,
   "id": "79a10d2c",
   "metadata": {},
   "outputs": [
    {
     "data": {
      "text/plain": [
       "False"
      ]
     },
     "execution_count": 2,
     "metadata": {},
     "output_type": "execute_result"
    }
   ],
   "source": [
    "2 > 5"
   ]
  },
  {
   "cell_type": "code",
   "execution_count": 3,
   "id": "2c09e93c",
   "metadata": {},
   "outputs": [
    {
     "data": {
      "text/plain": [
       "True"
      ]
     },
     "execution_count": 3,
     "metadata": {},
     "output_type": "execute_result"
    }
   ],
   "source": [
    "2 == 2"
   ]
  },
  {
   "cell_type": "code",
   "execution_count": 4,
   "id": "746c11d0",
   "metadata": {
    "scrolled": true
   },
   "outputs": [
    {
     "data": {
      "text/plain": [
       "False"
      ]
     },
     "execution_count": 4,
     "metadata": {},
     "output_type": "execute_result"
    }
   ],
   "source": [
    "2 != 2"
   ]
  },
  {
   "cell_type": "code",
   "execution_count": 5,
   "id": "f8325fd4",
   "metadata": {},
   "outputs": [
    {
     "data": {
      "text/plain": [
       "False"
      ]
     },
     "execution_count": 5,
     "metadata": {},
     "output_type": "execute_result"
    }
   ],
   "source": [
    "2 > 3 and 10 < 11"
   ]
  },
  {
   "cell_type": "code",
   "execution_count": 6,
   "id": "fcaeded0",
   "metadata": {},
   "outputs": [
    {
     "data": {
      "text/plain": [
       "True"
      ]
     },
     "execution_count": 6,
     "metadata": {},
     "output_type": "execute_result"
    }
   ],
   "source": [
    "2 > 3 and 10 < 11 or 5 == 5"
   ]
  },
  {
   "cell_type": "markdown",
   "id": "43e7afcf",
   "metadata": {},
   "source": [
    "# Conditional Statements"
   ]
  },
  {
   "cell_type": "code",
   "execution_count": 7,
   "id": "cadb8b82",
   "metadata": {},
   "outputs": [
    {
     "name": "stdout",
     "output_type": "stream",
     "text": [
      "OK\n"
     ]
    }
   ],
   "source": [
    "if 5 > 4:\n",
    "    print('OK')"
   ]
  },
  {
   "cell_type": "code",
   "execution_count": 8,
   "id": "976538cb",
   "metadata": {},
   "outputs": [
    {
     "name": "stdout",
     "output_type": "stream",
     "text": [
      "Oh no!\n"
     ]
    }
   ],
   "source": [
    "if 5 > 6:\n",
    "    print('OK')\n",
    "else:\n",
    "    print('Oh no!')"
   ]
  },
  {
   "cell_type": "code",
   "execution_count": 9,
   "id": "966c7a83",
   "metadata": {},
   "outputs": [
    {
     "name": "stdout",
     "output_type": "stream",
     "text": [
      "PRIM\n"
     ]
    }
   ],
   "source": [
    "if 2 == 3:\n",
    "    print('OX')\n",
    "elif 3 < 3:\n",
    "    print('MIX')\n",
    "elif 7 < 6:\n",
    "    print('SS')\n",
    "else:\n",
    "    print('PRIM')"
   ]
  },
  {
   "cell_type": "markdown",
   "id": "4e045598",
   "metadata": {},
   "source": [
    "# Loops"
   ]
  },
  {
   "cell_type": "markdown",
   "id": "46fefd88",
   "metadata": {},
   "source": [
    "## For Loop"
   ]
  },
  {
   "cell_type": "code",
   "execution_count": 10,
   "id": "6cbd7c0a",
   "metadata": {},
   "outputs": [],
   "source": [
    "eu = [101, 201, 202, 203, 301, 302]"
   ]
  },
  {
   "cell_type": "code",
   "execution_count": 11,
   "id": "b9af7ca3",
   "metadata": {},
   "outputs": [
    {
     "name": "stdout",
     "output_type": "stream",
     "text": [
      "101\n",
      "201\n",
      "202\n",
      "203\n",
      "301\n",
      "302\n"
     ]
    }
   ],
   "source": [
    "# \"unit\" temporary variable, can be anything\n",
    "for unit in eu:\n",
    "    print(unit)"
   ]
  },
  {
   "cell_type": "code",
   "execution_count": 12,
   "id": "17ca2da0",
   "metadata": {},
   "outputs": [
    {
     "name": "stdout",
     "output_type": "stream",
     "text": [
      "cachupin\n",
      "cachupin\n",
      "cachupin\n",
      "cachupin\n",
      "cachupin\n",
      "cachupin\n"
     ]
    }
   ],
   "source": [
    "for dog in eu:\n",
    "    print('cachupin')"
   ]
  },
  {
   "cell_type": "code",
   "execution_count": 13,
   "id": "1e2fb53d",
   "metadata": {},
   "outputs": [
    {
     "name": "stdout",
     "output_type": "stream",
     "text": [
      "0\n",
      "1\n",
      "2\n",
      "3\n",
      "4\n",
      "5\n",
      "6\n",
      "7\n",
      "8\n",
      "9\n"
     ]
    }
   ],
   "source": [
    "for x in range(0,10):\n",
    "    print(x)"
   ]
  },
  {
   "cell_type": "code",
   "execution_count": 15,
   "id": "8f5150d8",
   "metadata": {},
   "outputs": [],
   "source": [
    "x = [1, 2, 3, 4, 5]"
   ]
  },
  {
   "cell_type": "code",
   "execution_count": 16,
   "id": "513132b7",
   "metadata": {},
   "outputs": [
    {
     "name": "stdout",
     "output_type": "stream",
     "text": [
      "[1, 8, 27, 64, 125]\n"
     ]
    }
   ],
   "source": [
    "result = []\n",
    "\n",
    "for num in x:\n",
    "    result.append(num**3)\n",
    "    \n",
    "print(result)"
   ]
  },
  {
   "cell_type": "markdown",
   "id": "5875a359",
   "metadata": {},
   "source": [
    "## While Loop"
   ]
  },
  {
   "cell_type": "code",
   "execution_count": 17,
   "id": "c140cf16",
   "metadata": {},
   "outputs": [
    {
     "name": "stdout",
     "output_type": "stream",
     "text": [
      "--------------------------------------------------\n",
      "The number is: 1\n",
      "**************************************************\n",
      "--------------------------------------------------\n",
      "The number is: 2\n",
      "**************************************************\n",
      "--------------------------------------------------\n",
      "The number is: 3\n",
      "**************************************************\n",
      "--------------------------------------------------\n",
      "The number is: 4\n",
      "**************************************************\n",
      "--------------------------------------------------\n",
      "The number is: 5\n",
      "**************************************************\n",
      "--------------------------------------------------\n",
      "The number is: 6\n",
      "**************************************************\n",
      "--------------------------------------------------\n",
      "The number is: 7\n",
      "**************************************************\n",
      "--------------------------------------------------\n",
      "The number is: 8\n",
      "**************************************************\n",
      "--------------------------------------------------\n",
      "The number is: 9\n",
      "**************************************************\n"
     ]
    }
   ],
   "source": [
    "x = 1\n",
    "\n",
    "while x < 10:\n",
    "    print('-'*50)\n",
    "    print('The number is: {}'.format(x))\n",
    "    print('*'*50)\n",
    "    x = x + 1"
   ]
  },
  {
   "cell_type": "markdown",
   "id": "23300978",
   "metadata": {},
   "source": [
    "# Functions"
   ]
  },
  {
   "cell_type": "markdown",
   "id": "6a0068f6",
   "metadata": {},
   "source": [
    "Definition: Set of instructions to perform a specific task. It is define with the \"def\" keyword. The outcome of the function is x+y. return is the end of the function (additional lines are not part of the function)"
   ]
  },
  {
   "cell_type": "code",
   "execution_count": 18,
   "id": "08582a81",
   "metadata": {},
   "outputs": [],
   "source": [
    "def adding():\n",
    "    x=3\n",
    "    y=4\n",
    "    return x+y"
   ]
  },
  {
   "cell_type": "code",
   "execution_count": 19,
   "id": "0fe46989",
   "metadata": {},
   "outputs": [
    {
     "data": {
      "text/plain": [
       "7"
      ]
     },
     "execution_count": 19,
     "metadata": {},
     "output_type": "execute_result"
    }
   ],
   "source": [
    "adding()"
   ]
  },
  {
   "cell_type": "markdown",
   "id": "1bc4031c",
   "metadata": {},
   "source": [
    "x and y are local variables. They do not exist outside the function: "
   ]
  },
  {
   "cell_type": "code",
   "execution_count": 20,
   "id": "91f6a744",
   "metadata": {},
   "outputs": [
    {
     "data": {
      "text/plain": [
       "10"
      ]
     },
     "execution_count": 20,
     "metadata": {},
     "output_type": "execute_result"
    }
   ],
   "source": [
    "x"
   ]
  },
  {
   "cell_type": "markdown",
   "id": "4e298c84",
   "metadata": {},
   "source": [
    "So far, the result is not very useful (always 7). Now we can add some parameters to the function:"
   ]
  },
  {
   "cell_type": "code",
   "execution_count": 21,
   "id": "6449c95b",
   "metadata": {},
   "outputs": [],
   "source": [
    "def adding(x,y):\n",
    "    return x+y"
   ]
  },
  {
   "cell_type": "code",
   "execution_count": 22,
   "id": "f97c9296",
   "metadata": {},
   "outputs": [
    {
     "data": {
      "text/plain": [
       "-1"
      ]
     },
     "execution_count": 22,
     "metadata": {},
     "output_type": "execute_result"
    }
   ],
   "source": [
    "adding(2,-3)"
   ]
  },
  {
   "cell_type": "markdown",
   "id": "36eeaf9a",
   "metadata": {},
   "source": [
    "x is the placeholder for 2, whereas y is for -3. 2 and -3 are the arguments of the function. If we change the arguments, we change the output of the function, but no the function itself"
   ]
  },
  {
   "cell_type": "code",
   "execution_count": 34,
   "id": "2661aa65",
   "metadata": {},
   "outputs": [],
   "source": [
    "###################  END OF PYTHON PART THREE  #####################"
   ]
  }
 ],
 "metadata": {
  "kernelspec": {
   "display_name": "Python 3 (ipykernel)",
   "language": "python",
   "name": "python3"
  },
  "language_info": {
   "codemirror_mode": {
    "name": "ipython",
    "version": 3
   },
   "file_extension": ".py",
   "mimetype": "text/x-python",
   "name": "python",
   "nbconvert_exporter": "python",
   "pygments_lexer": "ipython3",
   "version": "3.11.1"
  },
  "toc": {
   "base_numbering": 1,
   "nav_menu": {},
   "number_sections": true,
   "sideBar": true,
   "skip_h1_title": false,
   "title_cell": "Table of Contents",
   "title_sidebar": "Contents",
   "toc_cell": false,
   "toc_position": {},
   "toc_section_display": true,
   "toc_window_display": true
  }
 },
 "nbformat": 4,
 "nbformat_minor": 5
}
