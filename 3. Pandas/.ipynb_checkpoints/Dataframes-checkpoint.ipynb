{
 "cells": [
  {
   "cell_type": "markdown",
   "id": "85978d81",
   "metadata": {},
   "source": [
    "# Dataframes"
   ]
  },
  {
   "cell_type": "code",
   "execution_count": 1,
   "id": "c8bb6b73",
   "metadata": {},
   "outputs": [],
   "source": [
    "import numpy as np\n",
    "import pandas as pd"
   ]
  },
  {
   "cell_type": "code",
   "execution_count": 2,
   "id": "1874a229",
   "metadata": {},
   "outputs": [],
   "source": [
    "assay = np.array([[12.3,87.6,72.3],\n",
    "                  [13.4,90.1,69.5],\n",
    "                  [14.4,89.0,70.5],\n",
    "                  [13.1,90.5,71.4]])\n",
    "# Every list into the list represents the result of one geometallurgical sample"
   ]
  },
  {
   "cell_type": "code",
   "execution_count": 3,
   "id": "2d61977d",
   "metadata": {},
   "outputs": [
    {
     "data": {
      "text/plain": [
       "(4, 3)"
      ]
     },
     "execution_count": 3,
     "metadata": {},
     "output_type": "execute_result"
    }
   ],
   "source": [
    "assay.shape"
   ]
  },
  {
   "cell_type": "code",
   "execution_count": 4,
   "id": "0070392d",
   "metadata": {},
   "outputs": [],
   "source": [
    "test = ['BWi', 'RecCu', 'RecMo']"
   ]
  },
  {
   "cell_type": "code",
   "execution_count": 5,
   "id": "b7fbf413",
   "metadata": {},
   "outputs": [],
   "source": [
    "sample = ['Sample_1', 'Sample_2', 'Sample_3', 'Sample_4']"
   ]
  },
  {
   "cell_type": "code",
   "execution_count": 6,
   "id": "4106a0b3",
   "metadata": {},
   "outputs": [],
   "source": [
    "df = pd.DataFrame(data=assay,index=sample,columns=test)"
   ]
  },
  {
   "cell_type": "code",
   "execution_count": 7,
   "id": "6062fe07",
   "metadata": {},
   "outputs": [
    {
     "data": {
      "text/html": [
       "<div>\n",
       "<style scoped>\n",
       "    .dataframe tbody tr th:only-of-type {\n",
       "        vertical-align: middle;\n",
       "    }\n",
       "\n",
       "    .dataframe tbody tr th {\n",
       "        vertical-align: top;\n",
       "    }\n",
       "\n",
       "    .dataframe thead th {\n",
       "        text-align: right;\n",
       "    }\n",
       "</style>\n",
       "<table border=\"1\" class=\"dataframe\">\n",
       "  <thead>\n",
       "    <tr style=\"text-align: right;\">\n",
       "      <th></th>\n",
       "      <th>BWi</th>\n",
       "      <th>RecCu</th>\n",
       "      <th>RecMo</th>\n",
       "    </tr>\n",
       "  </thead>\n",
       "  <tbody>\n",
       "    <tr>\n",
       "      <th>Sample_1</th>\n",
       "      <td>12.3</td>\n",
       "      <td>87.6</td>\n",
       "      <td>72.3</td>\n",
       "    </tr>\n",
       "    <tr>\n",
       "      <th>Sample_2</th>\n",
       "      <td>13.4</td>\n",
       "      <td>90.1</td>\n",
       "      <td>69.5</td>\n",
       "    </tr>\n",
       "    <tr>\n",
       "      <th>Sample_3</th>\n",
       "      <td>14.4</td>\n",
       "      <td>89.0</td>\n",
       "      <td>70.5</td>\n",
       "    </tr>\n",
       "    <tr>\n",
       "      <th>Sample_4</th>\n",
       "      <td>13.1</td>\n",
       "      <td>90.5</td>\n",
       "      <td>71.4</td>\n",
       "    </tr>\n",
       "  </tbody>\n",
       "</table>\n",
       "</div>"
      ],
      "text/plain": [
       "           BWi  RecCu  RecMo\n",
       "Sample_1  12.3   87.6   72.3\n",
       "Sample_2  13.4   90.1   69.5\n",
       "Sample_3  14.4   89.0   70.5\n",
       "Sample_4  13.1   90.5   71.4"
      ]
     },
     "execution_count": 7,
     "metadata": {},
     "output_type": "execute_result"
    }
   ],
   "source": [
    "# Similar to Excel matrix\n",
    "df"
   ]
  },
  {
   "cell_type": "code",
   "execution_count": 8,
   "id": "ee4606d6",
   "metadata": {},
   "outputs": [],
   "source": [
    "# Column are series sharing common index"
   ]
  },
  {
   "cell_type": "code",
   "execution_count": 9,
   "id": "0c326e1b",
   "metadata": {},
   "outputs": [
    {
     "data": {
      "text/plain": [
       "(4, 3)"
      ]
     },
     "execution_count": 9,
     "metadata": {},
     "output_type": "execute_result"
    }
   ],
   "source": [
    "df.shape"
   ]
  },
  {
   "cell_type": "code",
   "execution_count": 10,
   "id": "33088e27",
   "metadata": {},
   "outputs": [
    {
     "data": {
      "text/plain": [
       "Sample_1    87.6\n",
       "Sample_2    90.1\n",
       "Sample_3    89.0\n",
       "Sample_4    90.5\n",
       "Name: RecCu, dtype: float64"
      ]
     },
     "execution_count": 10,
     "metadata": {},
     "output_type": "execute_result"
    }
   ],
   "source": [
    "df['RecCu']"
   ]
  },
  {
   "cell_type": "code",
   "execution_count": 11,
   "id": "11d54c78",
   "metadata": {},
   "outputs": [],
   "source": [
    "# Then, column looks like a series (actually it is)"
   ]
  },
  {
   "cell_type": "code",
   "execution_count": 12,
   "id": "33cba7d0",
   "metadata": {},
   "outputs": [
    {
     "data": {
      "text/plain": [
       "pandas.core.frame.DataFrame"
      ]
     },
     "execution_count": 12,
     "metadata": {},
     "output_type": "execute_result"
    }
   ],
   "source": [
    "type(df)"
   ]
  },
  {
   "cell_type": "code",
   "execution_count": 13,
   "id": "793e53d6",
   "metadata": {},
   "outputs": [
    {
     "data": {
      "text/plain": [
       "pandas.core.series.Series"
      ]
     },
     "execution_count": 13,
     "metadata": {},
     "output_type": "execute_result"
    }
   ],
   "source": [
    "type(df['RecCu'])"
   ]
  },
  {
   "cell_type": "code",
   "execution_count": 14,
   "id": "5dc810ec",
   "metadata": {},
   "outputs": [],
   "source": [
    "# Multiple column selection using list of column names"
   ]
  },
  {
   "cell_type": "code",
   "execution_count": 15,
   "id": "d94f1623",
   "metadata": {},
   "outputs": [
    {
     "data": {
      "text/html": [
       "<div>\n",
       "<style scoped>\n",
       "    .dataframe tbody tr th:only-of-type {\n",
       "        vertical-align: middle;\n",
       "    }\n",
       "\n",
       "    .dataframe tbody tr th {\n",
       "        vertical-align: top;\n",
       "    }\n",
       "\n",
       "    .dataframe thead th {\n",
       "        text-align: right;\n",
       "    }\n",
       "</style>\n",
       "<table border=\"1\" class=\"dataframe\">\n",
       "  <thead>\n",
       "    <tr style=\"text-align: right;\">\n",
       "      <th></th>\n",
       "      <th>RecCu</th>\n",
       "      <th>RecMo</th>\n",
       "    </tr>\n",
       "  </thead>\n",
       "  <tbody>\n",
       "    <tr>\n",
       "      <th>Sample_1</th>\n",
       "      <td>87.6</td>\n",
       "      <td>72.3</td>\n",
       "    </tr>\n",
       "    <tr>\n",
       "      <th>Sample_2</th>\n",
       "      <td>90.1</td>\n",
       "      <td>69.5</td>\n",
       "    </tr>\n",
       "    <tr>\n",
       "      <th>Sample_3</th>\n",
       "      <td>89.0</td>\n",
       "      <td>70.5</td>\n",
       "    </tr>\n",
       "    <tr>\n",
       "      <th>Sample_4</th>\n",
       "      <td>90.5</td>\n",
       "      <td>71.4</td>\n",
       "    </tr>\n",
       "  </tbody>\n",
       "</table>\n",
       "</div>"
      ],
      "text/plain": [
       "          RecCu  RecMo\n",
       "Sample_1   87.6   72.3\n",
       "Sample_2   90.1   69.5\n",
       "Sample_3   89.0   70.5\n",
       "Sample_4   90.5   71.4"
      ]
     },
     "execution_count": 15,
     "metadata": {},
     "output_type": "execute_result"
    }
   ],
   "source": [
    "df[['RecCu','RecMo']]"
   ]
  },
  {
   "cell_type": "code",
   "execution_count": 16,
   "id": "cd7a8f74",
   "metadata": {},
   "outputs": [],
   "source": [
    "# A dataframe is obtained"
   ]
  },
  {
   "cell_type": "code",
   "execution_count": 17,
   "id": "b802f81c",
   "metadata": {},
   "outputs": [
    {
     "data": {
      "text/html": [
       "<div>\n",
       "<style scoped>\n",
       "    .dataframe tbody tr th:only-of-type {\n",
       "        vertical-align: middle;\n",
       "    }\n",
       "\n",
       "    .dataframe tbody tr th {\n",
       "        vertical-align: top;\n",
       "    }\n",
       "\n",
       "    .dataframe thead th {\n",
       "        text-align: right;\n",
       "    }\n",
       "</style>\n",
       "<table border=\"1\" class=\"dataframe\">\n",
       "  <thead>\n",
       "    <tr style=\"text-align: right;\">\n",
       "      <th></th>\n",
       "      <th>RecCu</th>\n",
       "    </tr>\n",
       "  </thead>\n",
       "  <tbody>\n",
       "    <tr>\n",
       "      <th>Sample_1</th>\n",
       "      <td>87.6</td>\n",
       "    </tr>\n",
       "    <tr>\n",
       "      <th>Sample_2</th>\n",
       "      <td>90.1</td>\n",
       "    </tr>\n",
       "    <tr>\n",
       "      <th>Sample_3</th>\n",
       "      <td>89.0</td>\n",
       "    </tr>\n",
       "    <tr>\n",
       "      <th>Sample_4</th>\n",
       "      <td>90.5</td>\n",
       "    </tr>\n",
       "  </tbody>\n",
       "</table>\n",
       "</div>"
      ],
      "text/plain": [
       "          RecCu\n",
       "Sample_1   87.6\n",
       "Sample_2   90.1\n",
       "Sample_3   89.0\n",
       "Sample_4   90.5"
      ]
     },
     "execution_count": 17,
     "metadata": {},
     "output_type": "execute_result"
    }
   ],
   "source": [
    "# Also is possible to obtain a dataframe from a column, using the same list cast\n",
    "df[['RecCu']]"
   ]
  },
  {
   "cell_type": "code",
   "execution_count": 18,
   "id": "2aaac161",
   "metadata": {},
   "outputs": [],
   "source": [
    "# Creating a new column, scaled RecCu\n",
    "df['Scaled RecCu'] = df['RecCu'] * 0.98"
   ]
  },
  {
   "cell_type": "code",
   "execution_count": 19,
   "id": "6e9b2a30",
   "metadata": {},
   "outputs": [
    {
     "data": {
      "text/html": [
       "<div>\n",
       "<style scoped>\n",
       "    .dataframe tbody tr th:only-of-type {\n",
       "        vertical-align: middle;\n",
       "    }\n",
       "\n",
       "    .dataframe tbody tr th {\n",
       "        vertical-align: top;\n",
       "    }\n",
       "\n",
       "    .dataframe thead th {\n",
       "        text-align: right;\n",
       "    }\n",
       "</style>\n",
       "<table border=\"1\" class=\"dataframe\">\n",
       "  <thead>\n",
       "    <tr style=\"text-align: right;\">\n",
       "      <th></th>\n",
       "      <th>BWi</th>\n",
       "      <th>RecCu</th>\n",
       "      <th>RecMo</th>\n",
       "      <th>Scaled RecCu</th>\n",
       "    </tr>\n",
       "  </thead>\n",
       "  <tbody>\n",
       "    <tr>\n",
       "      <th>Sample_1</th>\n",
       "      <td>12.3</td>\n",
       "      <td>87.6</td>\n",
       "      <td>72.3</td>\n",
       "      <td>85.848</td>\n",
       "    </tr>\n",
       "    <tr>\n",
       "      <th>Sample_2</th>\n",
       "      <td>13.4</td>\n",
       "      <td>90.1</td>\n",
       "      <td>69.5</td>\n",
       "      <td>88.298</td>\n",
       "    </tr>\n",
       "    <tr>\n",
       "      <th>Sample_3</th>\n",
       "      <td>14.4</td>\n",
       "      <td>89.0</td>\n",
       "      <td>70.5</td>\n",
       "      <td>87.220</td>\n",
       "    </tr>\n",
       "    <tr>\n",
       "      <th>Sample_4</th>\n",
       "      <td>13.1</td>\n",
       "      <td>90.5</td>\n",
       "      <td>71.4</td>\n",
       "      <td>88.690</td>\n",
       "    </tr>\n",
       "  </tbody>\n",
       "</table>\n",
       "</div>"
      ],
      "text/plain": [
       "           BWi  RecCu  RecMo  Scaled RecCu\n",
       "Sample_1  12.3   87.6   72.3        85.848\n",
       "Sample_2  13.4   90.1   69.5        88.298\n",
       "Sample_3  14.4   89.0   70.5        87.220\n",
       "Sample_4  13.1   90.5   71.4        88.690"
      ]
     },
     "execution_count": 19,
     "metadata": {},
     "output_type": "execute_result"
    }
   ],
   "source": [
    "df"
   ]
  },
  {
   "cell_type": "code",
   "execution_count": 20,
   "id": "dc119168",
   "metadata": {},
   "outputs": [],
   "source": [
    "#dropping a column\n",
    "df.drop('Scaled RecCu', axis=1, inplace=True)"
   ]
  },
  {
   "cell_type": "code",
   "execution_count": 21,
   "id": "1b9eacfe",
   "metadata": {},
   "outputs": [
    {
     "data": {
      "text/html": [
       "<div>\n",
       "<style scoped>\n",
       "    .dataframe tbody tr th:only-of-type {\n",
       "        vertical-align: middle;\n",
       "    }\n",
       "\n",
       "    .dataframe tbody tr th {\n",
       "        vertical-align: top;\n",
       "    }\n",
       "\n",
       "    .dataframe thead th {\n",
       "        text-align: right;\n",
       "    }\n",
       "</style>\n",
       "<table border=\"1\" class=\"dataframe\">\n",
       "  <thead>\n",
       "    <tr style=\"text-align: right;\">\n",
       "      <th></th>\n",
       "      <th>BWi</th>\n",
       "      <th>RecCu</th>\n",
       "      <th>RecMo</th>\n",
       "    </tr>\n",
       "  </thead>\n",
       "  <tbody>\n",
       "    <tr>\n",
       "      <th>Sample_1</th>\n",
       "      <td>12.3</td>\n",
       "      <td>87.6</td>\n",
       "      <td>72.3</td>\n",
       "    </tr>\n",
       "    <tr>\n",
       "      <th>Sample_2</th>\n",
       "      <td>13.4</td>\n",
       "      <td>90.1</td>\n",
       "      <td>69.5</td>\n",
       "    </tr>\n",
       "    <tr>\n",
       "      <th>Sample_3</th>\n",
       "      <td>14.4</td>\n",
       "      <td>89.0</td>\n",
       "      <td>70.5</td>\n",
       "    </tr>\n",
       "    <tr>\n",
       "      <th>Sample_4</th>\n",
       "      <td>13.1</td>\n",
       "      <td>90.5</td>\n",
       "      <td>71.4</td>\n",
       "    </tr>\n",
       "  </tbody>\n",
       "</table>\n",
       "</div>"
      ],
      "text/plain": [
       "           BWi  RecCu  RecMo\n",
       "Sample_1  12.3   87.6   72.3\n",
       "Sample_2  13.4   90.1   69.5\n",
       "Sample_3  14.4   89.0   70.5\n",
       "Sample_4  13.1   90.5   71.4"
      ]
     },
     "execution_count": 21,
     "metadata": {},
     "output_type": "execute_result"
    }
   ],
   "source": [
    "df"
   ]
  },
  {
   "cell_type": "code",
   "execution_count": 22,
   "id": "79645bd4",
   "metadata": {},
   "outputs": [
    {
     "data": {
      "text/html": [
       "<div>\n",
       "<style scoped>\n",
       "    .dataframe tbody tr th:only-of-type {\n",
       "        vertical-align: middle;\n",
       "    }\n",
       "\n",
       "    .dataframe tbody tr th {\n",
       "        vertical-align: top;\n",
       "    }\n",
       "\n",
       "    .dataframe thead th {\n",
       "        text-align: right;\n",
       "    }\n",
       "</style>\n",
       "<table border=\"1\" class=\"dataframe\">\n",
       "  <thead>\n",
       "    <tr style=\"text-align: right;\">\n",
       "      <th></th>\n",
       "      <th>BWi</th>\n",
       "      <th>RecCu</th>\n",
       "      <th>RecMo</th>\n",
       "    </tr>\n",
       "  </thead>\n",
       "  <tbody>\n",
       "    <tr>\n",
       "      <th>Sample_1</th>\n",
       "      <td>12.3</td>\n",
       "      <td>87.6</td>\n",
       "      <td>72.3</td>\n",
       "    </tr>\n",
       "    <tr>\n",
       "      <th>Sample_2</th>\n",
       "      <td>13.4</td>\n",
       "      <td>90.1</td>\n",
       "      <td>69.5</td>\n",
       "    </tr>\n",
       "    <tr>\n",
       "      <th>Sample_3</th>\n",
       "      <td>14.4</td>\n",
       "      <td>89.0</td>\n",
       "      <td>70.5</td>\n",
       "    </tr>\n",
       "  </tbody>\n",
       "</table>\n",
       "</div>"
      ],
      "text/plain": [
       "           BWi  RecCu  RecMo\n",
       "Sample_1  12.3   87.6   72.3\n",
       "Sample_2  13.4   90.1   69.5\n",
       "Sample_3  14.4   89.0   70.5"
      ]
     },
     "execution_count": 22,
     "metadata": {},
     "output_type": "execute_result"
    }
   ],
   "source": [
    "# Removing sample 4\n",
    "df.drop('Sample_4', axis=0)"
   ]
  },
  {
   "cell_type": "code",
   "execution_count": 23,
   "id": "33682116",
   "metadata": {},
   "outputs": [
    {
     "data": {
      "text/html": [
       "<div>\n",
       "<style scoped>\n",
       "    .dataframe tbody tr th:only-of-type {\n",
       "        vertical-align: middle;\n",
       "    }\n",
       "\n",
       "    .dataframe tbody tr th {\n",
       "        vertical-align: top;\n",
       "    }\n",
       "\n",
       "    .dataframe thead th {\n",
       "        text-align: right;\n",
       "    }\n",
       "</style>\n",
       "<table border=\"1\" class=\"dataframe\">\n",
       "  <thead>\n",
       "    <tr style=\"text-align: right;\">\n",
       "      <th></th>\n",
       "      <th>BWi</th>\n",
       "      <th>RecCu</th>\n",
       "      <th>RecMo</th>\n",
       "    </tr>\n",
       "  </thead>\n",
       "  <tbody>\n",
       "    <tr>\n",
       "      <th>Sample_1</th>\n",
       "      <td>12.3</td>\n",
       "      <td>87.6</td>\n",
       "      <td>72.3</td>\n",
       "    </tr>\n",
       "    <tr>\n",
       "      <th>Sample_2</th>\n",
       "      <td>13.4</td>\n",
       "      <td>90.1</td>\n",
       "      <td>69.5</td>\n",
       "    </tr>\n",
       "    <tr>\n",
       "      <th>Sample_3</th>\n",
       "      <td>14.4</td>\n",
       "      <td>89.0</td>\n",
       "      <td>70.5</td>\n",
       "    </tr>\n",
       "    <tr>\n",
       "      <th>Sample_4</th>\n",
       "      <td>13.1</td>\n",
       "      <td>90.5</td>\n",
       "      <td>71.4</td>\n",
       "    </tr>\n",
       "  </tbody>\n",
       "</table>\n",
       "</div>"
      ],
      "text/plain": [
       "           BWi  RecCu  RecMo\n",
       "Sample_1  12.3   87.6   72.3\n",
       "Sample_2  13.4   90.1   69.5\n",
       "Sample_3  14.4   89.0   70.5\n",
       "Sample_4  13.1   90.5   71.4"
      ]
     },
     "execution_count": 23,
     "metadata": {},
     "output_type": "execute_result"
    }
   ],
   "source": [
    "df"
   ]
  },
  {
   "cell_type": "code",
   "execution_count": 24,
   "id": "1bde8a8d",
   "metadata": {},
   "outputs": [],
   "source": [
    "# Selecting rows"
   ]
  },
  {
   "cell_type": "code",
   "execution_count": 25,
   "id": "dd8e7025",
   "metadata": {},
   "outputs": [
    {
     "data": {
      "text/plain": [
       "BWi      14.4\n",
       "RecCu    89.0\n",
       "RecMo    70.5\n",
       "Name: Sample_3, dtype: float64"
      ]
     },
     "execution_count": 25,
     "metadata": {},
     "output_type": "execute_result"
    }
   ],
   "source": [
    "# Method 1: LOC (location)\n",
    "df.loc['Sample_3']"
   ]
  },
  {
   "cell_type": "code",
   "execution_count": 26,
   "id": "a7db7a48",
   "metadata": {},
   "outputs": [],
   "source": [
    "# Note the rows are series also"
   ]
  },
  {
   "cell_type": "code",
   "execution_count": 27,
   "id": "98d4b51f",
   "metadata": {},
   "outputs": [
    {
     "data": {
      "text/html": [
       "<div>\n",
       "<style scoped>\n",
       "    .dataframe tbody tr th:only-of-type {\n",
       "        vertical-align: middle;\n",
       "    }\n",
       "\n",
       "    .dataframe tbody tr th {\n",
       "        vertical-align: top;\n",
       "    }\n",
       "\n",
       "    .dataframe thead th {\n",
       "        text-align: right;\n",
       "    }\n",
       "</style>\n",
       "<table border=\"1\" class=\"dataframe\">\n",
       "  <thead>\n",
       "    <tr style=\"text-align: right;\">\n",
       "      <th></th>\n",
       "      <th>BWi</th>\n",
       "    </tr>\n",
       "  </thead>\n",
       "  <tbody>\n",
       "    <tr>\n",
       "      <th>Sample_3</th>\n",
       "      <td>14.4</td>\n",
       "    </tr>\n",
       "  </tbody>\n",
       "</table>\n",
       "</div>"
      ],
      "text/plain": [
       "           BWi\n",
       "Sample_3  14.4"
      ]
     },
     "execution_count": 27,
     "metadata": {},
     "output_type": "execute_result"
    }
   ],
   "source": [
    "df.loc[['Sample_3'],['BWi']]"
   ]
  },
  {
   "cell_type": "code",
   "execution_count": 28,
   "id": "f72f8240",
   "metadata": {},
   "outputs": [
    {
     "data": {
      "text/plain": [
       "BWi      14.4\n",
       "RecCu    89.0\n",
       "RecMo    70.5\n",
       "Name: Sample_3, dtype: float64"
      ]
     },
     "execution_count": 28,
     "metadata": {},
     "output_type": "execute_result"
    }
   ],
   "source": [
    "# Method 2: ILOC (index location)\n",
    "df.iloc[2]"
   ]
  },
  {
   "cell_type": "code",
   "execution_count": 29,
   "id": "4369140e",
   "metadata": {},
   "outputs": [
    {
     "data": {
      "text/plain": [
       "14.4"
      ]
     },
     "execution_count": 29,
     "metadata": {},
     "output_type": "execute_result"
    }
   ],
   "source": [
    "df.iloc[2,0]"
   ]
  },
  {
   "cell_type": "code",
   "execution_count": 30,
   "id": "d552c151",
   "metadata": {},
   "outputs": [
    {
     "data": {
      "text/plain": [
       "Sample_1    False\n",
       "Sample_2     True\n",
       "Sample_3    False\n",
       "Sample_4     True\n",
       "Name: RecCu, dtype: bool"
      ]
     },
     "execution_count": 30,
     "metadata": {},
     "output_type": "execute_result"
    }
   ],
   "source": [
    "df['RecCu']>90"
   ]
  },
  {
   "cell_type": "code",
   "execution_count": 31,
   "id": "3edbd83b",
   "metadata": {},
   "outputs": [],
   "source": [
    "# Using the series of boolean values to filter out rows\n",
    "# Passing a series into a dataframe"
   ]
  },
  {
   "cell_type": "code",
   "execution_count": 32,
   "id": "c46bde8a",
   "metadata": {},
   "outputs": [
    {
     "data": {
      "text/html": [
       "<div>\n",
       "<style scoped>\n",
       "    .dataframe tbody tr th:only-of-type {\n",
       "        vertical-align: middle;\n",
       "    }\n",
       "\n",
       "    .dataframe tbody tr th {\n",
       "        vertical-align: top;\n",
       "    }\n",
       "\n",
       "    .dataframe thead th {\n",
       "        text-align: right;\n",
       "    }\n",
       "</style>\n",
       "<table border=\"1\" class=\"dataframe\">\n",
       "  <thead>\n",
       "    <tr style=\"text-align: right;\">\n",
       "      <th></th>\n",
       "      <th>BWi</th>\n",
       "      <th>RecCu</th>\n",
       "      <th>RecMo</th>\n",
       "    </tr>\n",
       "  </thead>\n",
       "  <tbody>\n",
       "    <tr>\n",
       "      <th>Sample_2</th>\n",
       "      <td>13.4</td>\n",
       "      <td>90.1</td>\n",
       "      <td>69.5</td>\n",
       "    </tr>\n",
       "    <tr>\n",
       "      <th>Sample_4</th>\n",
       "      <td>13.1</td>\n",
       "      <td>90.5</td>\n",
       "      <td>71.4</td>\n",
       "    </tr>\n",
       "  </tbody>\n",
       "</table>\n",
       "</div>"
      ],
      "text/plain": [
       "           BWi  RecCu  RecMo\n",
       "Sample_2  13.4   90.1   69.5\n",
       "Sample_4  13.1   90.5   71.4"
      ]
     },
     "execution_count": 32,
     "metadata": {},
     "output_type": "execute_result"
    }
   ],
   "source": [
    "df[df['RecCu']>90]\n"
   ]
  },
  {
   "cell_type": "code",
   "execution_count": 33,
   "id": "853430e7",
   "metadata": {},
   "outputs": [
    {
     "data": {
      "text/plain": [
       "Sample_2    13.4\n",
       "Sample_4    13.1\n",
       "Name: BWi, dtype: float64"
      ]
     },
     "execution_count": 33,
     "metadata": {},
     "output_type": "execute_result"
    }
   ],
   "source": [
    "df[df['RecCu']>90]['BWi']"
   ]
  },
  {
   "cell_type": "code",
   "execution_count": 34,
   "id": "cf6ef85b",
   "metadata": {},
   "outputs": [],
   "source": [
    "# Boolean compares one at a time, not an entire series! Instead use ampersand"
   ]
  },
  {
   "cell_type": "code",
   "execution_count": 35,
   "id": "f8c8b069",
   "metadata": {},
   "outputs": [
    {
     "data": {
      "text/html": [
       "<div>\n",
       "<style scoped>\n",
       "    .dataframe tbody tr th:only-of-type {\n",
       "        vertical-align: middle;\n",
       "    }\n",
       "\n",
       "    .dataframe tbody tr th {\n",
       "        vertical-align: top;\n",
       "    }\n",
       "\n",
       "    .dataframe thead th {\n",
       "        text-align: right;\n",
       "    }\n",
       "</style>\n",
       "<table border=\"1\" class=\"dataframe\">\n",
       "  <thead>\n",
       "    <tr style=\"text-align: right;\">\n",
       "      <th></th>\n",
       "      <th>BWi</th>\n",
       "      <th>RecCu</th>\n",
       "      <th>RecMo</th>\n",
       "    </tr>\n",
       "  </thead>\n",
       "  <tbody>\n",
       "    <tr>\n",
       "      <th>Sample_4</th>\n",
       "      <td>13.1</td>\n",
       "      <td>90.5</td>\n",
       "      <td>71.4</td>\n",
       "    </tr>\n",
       "  </tbody>\n",
       "</table>\n",
       "</div>"
      ],
      "text/plain": [
       "           BWi  RecCu  RecMo\n",
       "Sample_4  13.1   90.5   71.4"
      ]
     },
     "execution_count": 35,
     "metadata": {},
     "output_type": "execute_result"
    }
   ],
   "source": [
    "df[(df['RecCu']>90) & (df['RecMo']>70)]"
   ]
  },
  {
   "cell_type": "code",
   "execution_count": 36,
   "id": "aed54c53",
   "metadata": {},
   "outputs": [
    {
     "data": {
      "text/html": [
       "<div>\n",
       "<style scoped>\n",
       "    .dataframe tbody tr th:only-of-type {\n",
       "        vertical-align: middle;\n",
       "    }\n",
       "\n",
       "    .dataframe tbody tr th {\n",
       "        vertical-align: top;\n",
       "    }\n",
       "\n",
       "    .dataframe thead th {\n",
       "        text-align: right;\n",
       "    }\n",
       "</style>\n",
       "<table border=\"1\" class=\"dataframe\">\n",
       "  <thead>\n",
       "    <tr style=\"text-align: right;\">\n",
       "      <th></th>\n",
       "      <th>BWi</th>\n",
       "      <th>RecCu</th>\n",
       "      <th>RecMo</th>\n",
       "    </tr>\n",
       "  </thead>\n",
       "  <tbody>\n",
       "    <tr>\n",
       "      <th>Sample_1</th>\n",
       "      <td>12.3</td>\n",
       "      <td>87.6</td>\n",
       "      <td>72.3</td>\n",
       "    </tr>\n",
       "    <tr>\n",
       "      <th>Sample_2</th>\n",
       "      <td>13.4</td>\n",
       "      <td>90.1</td>\n",
       "      <td>69.5</td>\n",
       "    </tr>\n",
       "    <tr>\n",
       "      <th>Sample_3</th>\n",
       "      <td>14.4</td>\n",
       "      <td>89.0</td>\n",
       "      <td>70.5</td>\n",
       "    </tr>\n",
       "    <tr>\n",
       "      <th>Sample_4</th>\n",
       "      <td>13.1</td>\n",
       "      <td>90.5</td>\n",
       "      <td>71.4</td>\n",
       "    </tr>\n",
       "  </tbody>\n",
       "</table>\n",
       "</div>"
      ],
      "text/plain": [
       "           BWi  RecCu  RecMo\n",
       "Sample_1  12.3   87.6   72.3\n",
       "Sample_2  13.4   90.1   69.5\n",
       "Sample_3  14.4   89.0   70.5\n",
       "Sample_4  13.1   90.5   71.4"
      ]
     },
     "execution_count": 36,
     "metadata": {},
     "output_type": "execute_result"
    }
   ],
   "source": [
    "df[(df['RecCu']>90) | (df['RecMo']>70)]"
   ]
  },
  {
   "cell_type": "code",
   "execution_count": 37,
   "id": "788d8819",
   "metadata": {},
   "outputs": [],
   "source": [
    "data = {'GMU':['101','101','102','102','103','103'],\n",
    "       'Drillhole':['DH-1','DH-2','DH-3','DH-4','DH-5','DH-6'],\n",
    "       'Length':[34.4,23.9,42.1,65.3,49.8,17.6]}"
   ]
  },
  {
   "cell_type": "code",
   "execution_count": 38,
   "id": "b97beac1",
   "metadata": {},
   "outputs": [],
   "source": [
    "df = pd.DataFrame(data)"
   ]
  },
  {
   "cell_type": "code",
   "execution_count": 39,
   "id": "d45f1952",
   "metadata": {},
   "outputs": [
    {
     "data": {
      "text/html": [
       "<div>\n",
       "<style scoped>\n",
       "    .dataframe tbody tr th:only-of-type {\n",
       "        vertical-align: middle;\n",
       "    }\n",
       "\n",
       "    .dataframe tbody tr th {\n",
       "        vertical-align: top;\n",
       "    }\n",
       "\n",
       "    .dataframe thead th {\n",
       "        text-align: right;\n",
       "    }\n",
       "</style>\n",
       "<table border=\"1\" class=\"dataframe\">\n",
       "  <thead>\n",
       "    <tr style=\"text-align: right;\">\n",
       "      <th></th>\n",
       "      <th>GMU</th>\n",
       "      <th>Drillhole</th>\n",
       "      <th>Length</th>\n",
       "    </tr>\n",
       "  </thead>\n",
       "  <tbody>\n",
       "    <tr>\n",
       "      <th>0</th>\n",
       "      <td>101</td>\n",
       "      <td>DH-1</td>\n",
       "      <td>34.4</td>\n",
       "    </tr>\n",
       "    <tr>\n",
       "      <th>1</th>\n",
       "      <td>101</td>\n",
       "      <td>DH-2</td>\n",
       "      <td>23.9</td>\n",
       "    </tr>\n",
       "    <tr>\n",
       "      <th>2</th>\n",
       "      <td>102</td>\n",
       "      <td>DH-3</td>\n",
       "      <td>42.1</td>\n",
       "    </tr>\n",
       "    <tr>\n",
       "      <th>3</th>\n",
       "      <td>102</td>\n",
       "      <td>DH-4</td>\n",
       "      <td>65.3</td>\n",
       "    </tr>\n",
       "    <tr>\n",
       "      <th>4</th>\n",
       "      <td>103</td>\n",
       "      <td>DH-5</td>\n",
       "      <td>49.8</td>\n",
       "    </tr>\n",
       "    <tr>\n",
       "      <th>5</th>\n",
       "      <td>103</td>\n",
       "      <td>DH-6</td>\n",
       "      <td>17.6</td>\n",
       "    </tr>\n",
       "  </tbody>\n",
       "</table>\n",
       "</div>"
      ],
      "text/plain": [
       "   GMU Drillhole  Length\n",
       "0  101      DH-1    34.4\n",
       "1  101      DH-2    23.9\n",
       "2  102      DH-3    42.1\n",
       "3  102      DH-4    65.3\n",
       "4  103      DH-5    49.8\n",
       "5  103      DH-6    17.6"
      ]
     },
     "execution_count": 39,
     "metadata": {},
     "output_type": "execute_result"
    }
   ],
   "source": [
    "df"
   ]
  },
  {
   "cell_type": "code",
   "execution_count": 40,
   "id": "9de824a5",
   "metadata": {},
   "outputs": [
    {
     "name": "stderr",
     "output_type": "stream",
     "text": [
      "C:\\Users\\Asus\\AppData\\Local\\Temp\\ipykernel_10620\\274403748.py:1: FutureWarning: The default value of numeric_only in DataFrameGroupBy.sum is deprecated. In a future version, numeric_only will default to False. Either specify numeric_only or select only columns which should be valid for the function.\n",
      "  df.groupby('GMU').sum()\n"
     ]
    },
    {
     "data": {
      "text/html": [
       "<div>\n",
       "<style scoped>\n",
       "    .dataframe tbody tr th:only-of-type {\n",
       "        vertical-align: middle;\n",
       "    }\n",
       "\n",
       "    .dataframe tbody tr th {\n",
       "        vertical-align: top;\n",
       "    }\n",
       "\n",
       "    .dataframe thead th {\n",
       "        text-align: right;\n",
       "    }\n",
       "</style>\n",
       "<table border=\"1\" class=\"dataframe\">\n",
       "  <thead>\n",
       "    <tr style=\"text-align: right;\">\n",
       "      <th></th>\n",
       "      <th>Length</th>\n",
       "    </tr>\n",
       "    <tr>\n",
       "      <th>GMU</th>\n",
       "      <th></th>\n",
       "    </tr>\n",
       "  </thead>\n",
       "  <tbody>\n",
       "    <tr>\n",
       "      <th>101</th>\n",
       "      <td>58.3</td>\n",
       "    </tr>\n",
       "    <tr>\n",
       "      <th>102</th>\n",
       "      <td>107.4</td>\n",
       "    </tr>\n",
       "    <tr>\n",
       "      <th>103</th>\n",
       "      <td>67.4</td>\n",
       "    </tr>\n",
       "  </tbody>\n",
       "</table>\n",
       "</div>"
      ],
      "text/plain": [
       "     Length\n",
       "GMU        \n",
       "101    58.3\n",
       "102   107.4\n",
       "103    67.4"
      ]
     },
     "execution_count": 40,
     "metadata": {},
     "output_type": "execute_result"
    }
   ],
   "source": [
    "df.groupby('GMU').sum()"
   ]
  },
  {
   "cell_type": "code",
   "execution_count": 41,
   "id": "893a879f",
   "metadata": {
    "scrolled": true
   },
   "outputs": [
    {
     "data": {
      "text/plain": [
       "{'GMU': ['101', '101', '102', '102', '103', '103'],\n",
       " 'Drillhole': ['DH-1', 'DH-2', 'DH-3', 'DH-4', 'DH-5', 'DH-6'],\n",
       " 'Length': [34.4, 23.9, 42.1, 65.3, 49.8, 17.6]}"
      ]
     },
     "execution_count": 41,
     "metadata": {},
     "output_type": "execute_result"
    }
   ],
   "source": [
    "data"
   ]
  },
  {
   "cell_type": "code",
   "execution_count": 42,
   "id": "0cfaf70e",
   "metadata": {},
   "outputs": [],
   "source": [
    "df = pd.DataFrame(data)"
   ]
  },
  {
   "cell_type": "code",
   "execution_count": 43,
   "id": "18410d1d",
   "metadata": {},
   "outputs": [
    {
     "data": {
      "text/html": [
       "<div>\n",
       "<style scoped>\n",
       "    .dataframe tbody tr th:only-of-type {\n",
       "        vertical-align: middle;\n",
       "    }\n",
       "\n",
       "    .dataframe tbody tr th {\n",
       "        vertical-align: top;\n",
       "    }\n",
       "\n",
       "    .dataframe thead th {\n",
       "        text-align: right;\n",
       "    }\n",
       "</style>\n",
       "<table border=\"1\" class=\"dataframe\">\n",
       "  <thead>\n",
       "    <tr style=\"text-align: right;\">\n",
       "      <th></th>\n",
       "      <th>GMU</th>\n",
       "      <th>Drillhole</th>\n",
       "      <th>Length</th>\n",
       "    </tr>\n",
       "  </thead>\n",
       "  <tbody>\n",
       "    <tr>\n",
       "      <th>0</th>\n",
       "      <td>101</td>\n",
       "      <td>DH-1</td>\n",
       "      <td>34.4</td>\n",
       "    </tr>\n",
       "    <tr>\n",
       "      <th>1</th>\n",
       "      <td>101</td>\n",
       "      <td>DH-2</td>\n",
       "      <td>23.9</td>\n",
       "    </tr>\n",
       "    <tr>\n",
       "      <th>2</th>\n",
       "      <td>102</td>\n",
       "      <td>DH-3</td>\n",
       "      <td>42.1</td>\n",
       "    </tr>\n",
       "    <tr>\n",
       "      <th>3</th>\n",
       "      <td>102</td>\n",
       "      <td>DH-4</td>\n",
       "      <td>65.3</td>\n",
       "    </tr>\n",
       "    <tr>\n",
       "      <th>4</th>\n",
       "      <td>103</td>\n",
       "      <td>DH-5</td>\n",
       "      <td>49.8</td>\n",
       "    </tr>\n",
       "    <tr>\n",
       "      <th>5</th>\n",
       "      <td>103</td>\n",
       "      <td>DH-6</td>\n",
       "      <td>17.6</td>\n",
       "    </tr>\n",
       "  </tbody>\n",
       "</table>\n",
       "</div>"
      ],
      "text/plain": [
       "   GMU Drillhole  Length\n",
       "0  101      DH-1    34.4\n",
       "1  101      DH-2    23.9\n",
       "2  102      DH-3    42.1\n",
       "3  102      DH-4    65.3\n",
       "4  103      DH-5    49.8\n",
       "5  103      DH-6    17.6"
      ]
     },
     "execution_count": 43,
     "metadata": {},
     "output_type": "execute_result"
    }
   ],
   "source": [
    "df"
   ]
  },
  {
   "cell_type": "code",
   "execution_count": 44,
   "id": "0c136779",
   "metadata": {},
   "outputs": [
    {
     "data": {
      "text/plain": [
       "array(['101', '102', '103'], dtype=object)"
      ]
     },
     "execution_count": 44,
     "metadata": {},
     "output_type": "execute_result"
    }
   ],
   "source": [
    "df['GMU'].unique()"
   ]
  },
  {
   "cell_type": "code",
   "execution_count": 45,
   "id": "0633dc05",
   "metadata": {},
   "outputs": [
    {
     "data": {
      "text/plain": [
       "3"
      ]
     },
     "execution_count": 45,
     "metadata": {},
     "output_type": "execute_result"
    }
   ],
   "source": [
    "df['GMU'].nunique()"
   ]
  },
  {
   "cell_type": "code",
   "execution_count": 46,
   "id": "15af5f9a",
   "metadata": {},
   "outputs": [
    {
     "data": {
      "text/plain": [
       "101    2\n",
       "102    2\n",
       "103    2\n",
       "Name: GMU, dtype: int64"
      ]
     },
     "execution_count": 46,
     "metadata": {},
     "output_type": "execute_result"
    }
   ],
   "source": [
    "df['GMU'].value_counts()"
   ]
  },
  {
   "cell_type": "code",
   "execution_count": 47,
   "id": "067159ce",
   "metadata": {},
   "outputs": [],
   "source": [
    "df = pd.read_csv(\"abrasion.csv\")"
   ]
  },
  {
   "cell_type": "code",
   "execution_count": 48,
   "id": "f5043909",
   "metadata": {},
   "outputs": [
    {
     "data": {
      "text/html": [
       "<div>\n",
       "<style scoped>\n",
       "    .dataframe tbody tr th:only-of-type {\n",
       "        vertical-align: middle;\n",
       "    }\n",
       "\n",
       "    .dataframe tbody tr th {\n",
       "        vertical-align: top;\n",
       "    }\n",
       "\n",
       "    .dataframe thead th {\n",
       "        text-align: right;\n",
       "    }\n",
       "</style>\n",
       "<table border=\"1\" class=\"dataframe\">\n",
       "  <thead>\n",
       "    <tr style=\"text-align: right;\">\n",
       "      <th></th>\n",
       "      <th>Sample</th>\n",
       "      <th>midx</th>\n",
       "      <th>midy</th>\n",
       "      <th>midz</th>\n",
       "      <th>Chalcocite-Digenite</th>\n",
       "      <th>Covellite</th>\n",
       "      <th>Chalcopyrite</th>\n",
       "      <th>Bornite</th>\n",
       "      <th>Pyrite</th>\n",
       "      <th>Quartz</th>\n",
       "      <th>...</th>\n",
       "      <th>Muscovite/Sericite</th>\n",
       "      <th>Clays</th>\n",
       "      <th>Biotite</th>\n",
       "      <th>Chlorite</th>\n",
       "      <th>Calcite</th>\n",
       "      <th>Gypsum/Anhydrite</th>\n",
       "      <th>SG</th>\n",
       "      <th>minzone</th>\n",
       "      <th>alteration</th>\n",
       "      <th>Ai</th>\n",
       "    </tr>\n",
       "  </thead>\n",
       "  <tbody>\n",
       "    <tr>\n",
       "      <th>0</th>\n",
       "      <td>S-554</td>\n",
       "      <td>1735.71</td>\n",
       "      <td>3822.52</td>\n",
       "      <td>3967.43</td>\n",
       "      <td>0.100000</td>\n",
       "      <td>0.03</td>\n",
       "      <td>0.84</td>\n",
       "      <td>0.010000</td>\n",
       "      <td>0.71</td>\n",
       "      <td>29.28</td>\n",
       "      <td>...</td>\n",
       "      <td>10.75</td>\n",
       "      <td>0.25</td>\n",
       "      <td>6.48</td>\n",
       "      <td>1.70</td>\n",
       "      <td>0.01</td>\n",
       "      <td>0.01</td>\n",
       "      <td>2.63</td>\n",
       "      <td>SSF</td>\n",
       "      <td>POT</td>\n",
       "      <td>0.19</td>\n",
       "    </tr>\n",
       "    <tr>\n",
       "      <th>1</th>\n",
       "      <td>S-1094</td>\n",
       "      <td>1835.95</td>\n",
       "      <td>4311.49</td>\n",
       "      <td>4312.87</td>\n",
       "      <td>0.361534</td>\n",
       "      <td>0.03</td>\n",
       "      <td>1.30</td>\n",
       "      <td>0.057970</td>\n",
       "      <td>0.01</td>\n",
       "      <td>26.32</td>\n",
       "      <td>...</td>\n",
       "      <td>5.25</td>\n",
       "      <td>0.58</td>\n",
       "      <td>7.24</td>\n",
       "      <td>2.04</td>\n",
       "      <td>0.02</td>\n",
       "      <td>0.07</td>\n",
       "      <td>2.53</td>\n",
       "      <td>SSF</td>\n",
       "      <td>POT</td>\n",
       "      <td>0.27</td>\n",
       "    </tr>\n",
       "    <tr>\n",
       "      <th>2</th>\n",
       "      <td>S-501</td>\n",
       "      <td>2982.08</td>\n",
       "      <td>3721.60</td>\n",
       "      <td>4051.83</td>\n",
       "      <td>0.190000</td>\n",
       "      <td>0.02</td>\n",
       "      <td>0.96</td>\n",
       "      <td>0.990000</td>\n",
       "      <td>0.02</td>\n",
       "      <td>29.04</td>\n",
       "      <td>...</td>\n",
       "      <td>3.43</td>\n",
       "      <td>1.17</td>\n",
       "      <td>4.74</td>\n",
       "      <td>0.71</td>\n",
       "      <td>0.13</td>\n",
       "      <td>3.36</td>\n",
       "      <td>2.70</td>\n",
       "      <td>PRI</td>\n",
       "      <td>POT</td>\n",
       "      <td>0.51</td>\n",
       "    </tr>\n",
       "    <tr>\n",
       "      <th>3</th>\n",
       "      <td>S-1257</td>\n",
       "      <td>2651.93</td>\n",
       "      <td>3462.46</td>\n",
       "      <td>3804.51</td>\n",
       "      <td>0.030000</td>\n",
       "      <td>0.00</td>\n",
       "      <td>0.70</td>\n",
       "      <td>0.640000</td>\n",
       "      <td>0.02</td>\n",
       "      <td>24.27</td>\n",
       "      <td>...</td>\n",
       "      <td>2.63</td>\n",
       "      <td>0.45</td>\n",
       "      <td>6.50</td>\n",
       "      <td>0.71</td>\n",
       "      <td>0.06</td>\n",
       "      <td>3.08</td>\n",
       "      <td>2.67</td>\n",
       "      <td>PRI</td>\n",
       "      <td>POT</td>\n",
       "      <td>0.38</td>\n",
       "    </tr>\n",
       "    <tr>\n",
       "      <th>4</th>\n",
       "      <td>S-1138</td>\n",
       "      <td>3475.05</td>\n",
       "      <td>4188.13</td>\n",
       "      <td>4330.87</td>\n",
       "      <td>0.097171</td>\n",
       "      <td>0.01</td>\n",
       "      <td>2.40</td>\n",
       "      <td>0.052820</td>\n",
       "      <td>4.10</td>\n",
       "      <td>23.45</td>\n",
       "      <td>...</td>\n",
       "      <td>7.16</td>\n",
       "      <td>0.62</td>\n",
       "      <td>6.80</td>\n",
       "      <td>1.97</td>\n",
       "      <td>0.08</td>\n",
       "      <td>2.85</td>\n",
       "      <td>2.69</td>\n",
       "      <td>PRI</td>\n",
       "      <td>POT</td>\n",
       "      <td>0.46</td>\n",
       "    </tr>\n",
       "    <tr>\n",
       "      <th>...</th>\n",
       "      <td>...</td>\n",
       "      <td>...</td>\n",
       "      <td>...</td>\n",
       "      <td>...</td>\n",
       "      <td>...</td>\n",
       "      <td>...</td>\n",
       "      <td>...</td>\n",
       "      <td>...</td>\n",
       "      <td>...</td>\n",
       "      <td>...</td>\n",
       "      <td>...</td>\n",
       "      <td>...</td>\n",
       "      <td>...</td>\n",
       "      <td>...</td>\n",
       "      <td>...</td>\n",
       "      <td>...</td>\n",
       "      <td>...</td>\n",
       "      <td>...</td>\n",
       "      <td>...</td>\n",
       "      <td>...</td>\n",
       "      <td>...</td>\n",
       "    </tr>\n",
       "    <tr>\n",
       "      <th>495</th>\n",
       "      <td>S-63</td>\n",
       "      <td>3708.34</td>\n",
       "      <td>3915.38</td>\n",
       "      <td>4396.05</td>\n",
       "      <td>0.290000</td>\n",
       "      <td>0.05</td>\n",
       "      <td>1.19</td>\n",
       "      <td>0.130000</td>\n",
       "      <td>1.05</td>\n",
       "      <td>31.97</td>\n",
       "      <td>...</td>\n",
       "      <td>5.97</td>\n",
       "      <td>0.88</td>\n",
       "      <td>4.08</td>\n",
       "      <td>2.15</td>\n",
       "      <td>0.01</td>\n",
       "      <td>0.29</td>\n",
       "      <td>2.57</td>\n",
       "      <td>SSF</td>\n",
       "      <td>POT</td>\n",
       "      <td>0.19</td>\n",
       "    </tr>\n",
       "    <tr>\n",
       "      <th>496</th>\n",
       "      <td>S-983</td>\n",
       "      <td>2738.41</td>\n",
       "      <td>3376.14</td>\n",
       "      <td>3754.54</td>\n",
       "      <td>0.007990</td>\n",
       "      <td>0.00</td>\n",
       "      <td>0.55</td>\n",
       "      <td>0.235192</td>\n",
       "      <td>0.01</td>\n",
       "      <td>30.08</td>\n",
       "      <td>...</td>\n",
       "      <td>1.89</td>\n",
       "      <td>0.22</td>\n",
       "      <td>8.28</td>\n",
       "      <td>0.70</td>\n",
       "      <td>0.07</td>\n",
       "      <td>3.11</td>\n",
       "      <td>2.65</td>\n",
       "      <td>PRI</td>\n",
       "      <td>POT</td>\n",
       "      <td>0.44</td>\n",
       "    </tr>\n",
       "    <tr>\n",
       "      <th>497</th>\n",
       "      <td>S-286</td>\n",
       "      <td>4027.81</td>\n",
       "      <td>3362.67</td>\n",
       "      <td>4658.81</td>\n",
       "      <td>0.130000</td>\n",
       "      <td>0.13</td>\n",
       "      <td>1.04</td>\n",
       "      <td>0.000000</td>\n",
       "      <td>5.00</td>\n",
       "      <td>38.23</td>\n",
       "      <td>...</td>\n",
       "      <td>24.02</td>\n",
       "      <td>0.64</td>\n",
       "      <td>1.46</td>\n",
       "      <td>5.54</td>\n",
       "      <td>0.01</td>\n",
       "      <td>0.07</td>\n",
       "      <td>2.61</td>\n",
       "      <td>SSD</td>\n",
       "      <td>AR</td>\n",
       "      <td>0.15</td>\n",
       "    </tr>\n",
       "    <tr>\n",
       "      <th>498</th>\n",
       "      <td>S-299</td>\n",
       "      <td>2620.22</td>\n",
       "      <td>3287.32</td>\n",
       "      <td>3813.93</td>\n",
       "      <td>0.030000</td>\n",
       "      <td>0.00</td>\n",
       "      <td>1.01</td>\n",
       "      <td>0.700000</td>\n",
       "      <td>0.01</td>\n",
       "      <td>25.64</td>\n",
       "      <td>...</td>\n",
       "      <td>3.09</td>\n",
       "      <td>0.32</td>\n",
       "      <td>6.66</td>\n",
       "      <td>0.75</td>\n",
       "      <td>0.13</td>\n",
       "      <td>3.21</td>\n",
       "      <td>2.66</td>\n",
       "      <td>PRI</td>\n",
       "      <td>POT</td>\n",
       "      <td>0.39</td>\n",
       "    </tr>\n",
       "    <tr>\n",
       "      <th>499</th>\n",
       "      <td>S-379</td>\n",
       "      <td>2684.33</td>\n",
       "      <td>3974.50</td>\n",
       "      <td>4203.11</td>\n",
       "      <td>0.250000</td>\n",
       "      <td>0.02</td>\n",
       "      <td>1.00</td>\n",
       "      <td>0.050000</td>\n",
       "      <td>1.07</td>\n",
       "      <td>28.41</td>\n",
       "      <td>...</td>\n",
       "      <td>6.14</td>\n",
       "      <td>1.22</td>\n",
       "      <td>3.67</td>\n",
       "      <td>1.09</td>\n",
       "      <td>0.02</td>\n",
       "      <td>0.11</td>\n",
       "      <td>2.59</td>\n",
       "      <td>SSF</td>\n",
       "      <td>POT</td>\n",
       "      <td>0.38</td>\n",
       "    </tr>\n",
       "  </tbody>\n",
       "</table>\n",
       "<p>500 rows × 22 columns</p>\n",
       "</div>"
      ],
      "text/plain": [
       "     Sample     midx     midy     midz  Chalcocite-Digenite  Covellite  \\\n",
       "0     S-554  1735.71  3822.52  3967.43             0.100000       0.03   \n",
       "1    S-1094  1835.95  4311.49  4312.87             0.361534       0.03   \n",
       "2     S-501  2982.08  3721.60  4051.83             0.190000       0.02   \n",
       "3    S-1257  2651.93  3462.46  3804.51             0.030000       0.00   \n",
       "4    S-1138  3475.05  4188.13  4330.87             0.097171       0.01   \n",
       "..      ...      ...      ...      ...                  ...        ...   \n",
       "495    S-63  3708.34  3915.38  4396.05             0.290000       0.05   \n",
       "496   S-983  2738.41  3376.14  3754.54             0.007990       0.00   \n",
       "497   S-286  4027.81  3362.67  4658.81             0.130000       0.13   \n",
       "498   S-299  2620.22  3287.32  3813.93             0.030000       0.00   \n",
       "499   S-379  2684.33  3974.50  4203.11             0.250000       0.02   \n",
       "\n",
       "     Chalcopyrite   Bornite  Pyrite  Quartz  ...  Muscovite/Sericite  Clays  \\\n",
       "0            0.84  0.010000    0.71   29.28  ...               10.75   0.25   \n",
       "1            1.30  0.057970    0.01   26.32  ...                5.25   0.58   \n",
       "2            0.96  0.990000    0.02   29.04  ...                3.43   1.17   \n",
       "3            0.70  0.640000    0.02   24.27  ...                2.63   0.45   \n",
       "4            2.40  0.052820    4.10   23.45  ...                7.16   0.62   \n",
       "..            ...       ...     ...     ...  ...                 ...    ...   \n",
       "495          1.19  0.130000    1.05   31.97  ...                5.97   0.88   \n",
       "496          0.55  0.235192    0.01   30.08  ...                1.89   0.22   \n",
       "497          1.04  0.000000    5.00   38.23  ...               24.02   0.64   \n",
       "498          1.01  0.700000    0.01   25.64  ...                3.09   0.32   \n",
       "499          1.00  0.050000    1.07   28.41  ...                6.14   1.22   \n",
       "\n",
       "     Biotite  Chlorite  Calcite  Gypsum/Anhydrite    SG  minzone  alteration  \\\n",
       "0       6.48      1.70     0.01              0.01  2.63      SSF         POT   \n",
       "1       7.24      2.04     0.02              0.07  2.53      SSF         POT   \n",
       "2       4.74      0.71     0.13              3.36  2.70      PRI         POT   \n",
       "3       6.50      0.71     0.06              3.08  2.67      PRI         POT   \n",
       "4       6.80      1.97     0.08              2.85  2.69      PRI         POT   \n",
       "..       ...       ...      ...               ...   ...      ...         ...   \n",
       "495     4.08      2.15     0.01              0.29  2.57      SSF         POT   \n",
       "496     8.28      0.70     0.07              3.11  2.65      PRI         POT   \n",
       "497     1.46      5.54     0.01              0.07  2.61      SSD          AR   \n",
       "498     6.66      0.75     0.13              3.21  2.66      PRI         POT   \n",
       "499     3.67      1.09     0.02              0.11  2.59      SSF         POT   \n",
       "\n",
       "       Ai  \n",
       "0    0.19  \n",
       "1    0.27  \n",
       "2    0.51  \n",
       "3    0.38  \n",
       "4    0.46  \n",
       "..    ...  \n",
       "495  0.19  \n",
       "496  0.44  \n",
       "497  0.15  \n",
       "498  0.39  \n",
       "499  0.38  \n",
       "\n",
       "[500 rows x 22 columns]"
      ]
     },
     "execution_count": 48,
     "metadata": {},
     "output_type": "execute_result"
    }
   ],
   "source": [
    "df"
   ]
  },
  {
   "cell_type": "code",
   "execution_count": 49,
   "id": "217408f1",
   "metadata": {},
   "outputs": [
    {
     "data": {
      "text/html": [
       "<div>\n",
       "<style scoped>\n",
       "    .dataframe tbody tr th:only-of-type {\n",
       "        vertical-align: middle;\n",
       "    }\n",
       "\n",
       "    .dataframe tbody tr th {\n",
       "        vertical-align: top;\n",
       "    }\n",
       "\n",
       "    .dataframe thead th {\n",
       "        text-align: right;\n",
       "    }\n",
       "</style>\n",
       "<table border=\"1\" class=\"dataframe\">\n",
       "  <thead>\n",
       "    <tr style=\"text-align: right;\">\n",
       "      <th>alteration</th>\n",
       "      <th>AR</th>\n",
       "      <th>CLO-SER</th>\n",
       "      <th>POT</th>\n",
       "    </tr>\n",
       "    <tr>\n",
       "      <th>minzone</th>\n",
       "      <th></th>\n",
       "      <th></th>\n",
       "      <th></th>\n",
       "    </tr>\n",
       "  </thead>\n",
       "  <tbody>\n",
       "    <tr>\n",
       "      <th>PRI</th>\n",
       "      <td>0.41</td>\n",
       "      <td>0.34</td>\n",
       "      <td>0.39</td>\n",
       "    </tr>\n",
       "    <tr>\n",
       "      <th>SSD</th>\n",
       "      <td>0.15</td>\n",
       "      <td>0.27</td>\n",
       "      <td>0.36</td>\n",
       "    </tr>\n",
       "    <tr>\n",
       "      <th>SSF</th>\n",
       "      <td>0.10</td>\n",
       "      <td>0.19</td>\n",
       "      <td>0.24</td>\n",
       "    </tr>\n",
       "  </tbody>\n",
       "</table>\n",
       "</div>"
      ],
      "text/plain": [
       "alteration    AR  CLO-SER   POT\n",
       "minzone                        \n",
       "PRI         0.41     0.34  0.39\n",
       "SSD         0.15     0.27  0.36\n",
       "SSF         0.10     0.19  0.24"
      ]
     },
     "execution_count": 49,
     "metadata": {},
     "output_type": "execute_result"
    }
   ],
   "source": [
    "df.pivot_table(values='Ai', index='minzone', columns='alteration', aggfunc='mean').round(2)"
   ]
  },
  {
   "cell_type": "code",
   "execution_count": 50,
   "id": "7cbf7b6a",
   "metadata": {},
   "outputs": [],
   "source": [
    "###################  END OF PANDAS DATAFRAMES  #####################"
   ]
  }
 ],
 "metadata": {
  "kernelspec": {
   "display_name": "Python 3 (ipykernel)",
   "language": "python",
   "name": "python3"
  },
  "language_info": {
   "codemirror_mode": {
    "name": "ipython",
    "version": 3
   },
   "file_extension": ".py",
   "mimetype": "text/x-python",
   "name": "python",
   "nbconvert_exporter": "python",
   "pygments_lexer": "ipython3",
   "version": "3.11.1"
  },
  "toc": {
   "base_numbering": 1,
   "nav_menu": {},
   "number_sections": true,
   "sideBar": true,
   "skip_h1_title": false,
   "title_cell": "Table of Contents",
   "title_sidebar": "Contents",
   "toc_cell": false,
   "toc_position": {},
   "toc_section_display": true,
   "toc_window_display": false
  }
 },
 "nbformat": 4,
 "nbformat_minor": 5
}
