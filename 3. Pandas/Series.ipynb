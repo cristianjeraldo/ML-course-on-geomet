{
 "cells": [
  {
   "cell_type": "markdown",
   "id": "6e4785e1",
   "metadata": {},
   "source": [
    "# Series"
   ]
  },
  {
   "cell_type": "code",
   "execution_count": 1,
   "id": "97c39d56",
   "metadata": {},
   "outputs": [],
   "source": [
    "import numpy as np"
   ]
  },
  {
   "cell_type": "code",
   "execution_count": 2,
   "id": "93fca94f",
   "metadata": {},
   "outputs": [],
   "source": [
    "import pandas as pd"
   ]
  },
  {
   "cell_type": "code",
   "execution_count": 3,
   "id": "7853ca03",
   "metadata": {},
   "outputs": [],
   "source": [
    "minzone = ['OX', 'SS', 'PRI']\n",
    "codes = [100, 200, 300]\n",
    "arr = np.array(codes)\n",
    "unit = {'OX':100, 'SS':200, 'PRI':300}"
   ]
  },
  {
   "cell_type": "code",
   "execution_count": 6,
   "id": "4b0ada31",
   "metadata": {},
   "outputs": [
    {
     "data": {
      "text/plain": [
       "OX     100\n",
       "SS     200\n",
       "PRI    300\n",
       "dtype: int64"
      ]
     },
     "execution_count": 6,
     "metadata": {},
     "output_type": "execute_result"
    }
   ],
   "source": [
    "pd.Series(codes, minzone)"
   ]
  },
  {
   "cell_type": "code",
   "execution_count": 7,
   "id": "03ca8ac0",
   "metadata": {},
   "outputs": [
    {
     "data": {
      "text/plain": [
       "OX     100\n",
       "SS     200\n",
       "PRI    300\n",
       "dtype: int32"
      ]
     },
     "execution_count": 7,
     "metadata": {},
     "output_type": "execute_result"
    }
   ],
   "source": [
    "pd.Series(arr, minzone)"
   ]
  },
  {
   "cell_type": "code",
   "execution_count": 8,
   "id": "195f8edc",
   "metadata": {},
   "outputs": [
    {
     "data": {
      "text/plain": [
       "OX     100\n",
       "SS     200\n",
       "PRI    300\n",
       "dtype: int64"
      ]
     },
     "execution_count": 8,
     "metadata": {},
     "output_type": "execute_result"
    }
   ],
   "source": [
    "pd.Series(unit)"
   ]
  },
  {
   "cell_type": "code",
   "execution_count": null,
   "id": "bb511b56",
   "metadata": {},
   "outputs": [],
   "source": [
    "###################  END OF PANDAS SERIES  #####################"
   ]
  }
 ],
 "metadata": {
  "kernelspec": {
   "display_name": "Python 3 (ipykernel)",
   "language": "python",
   "name": "python3"
  },
  "language_info": {
   "codemirror_mode": {
    "name": "ipython",
    "version": 3
   },
   "file_extension": ".py",
   "mimetype": "text/x-python",
   "name": "python",
   "nbconvert_exporter": "python",
   "pygments_lexer": "ipython3",
   "version": "3.11.1"
  },
  "toc": {
   "base_numbering": 1,
   "nav_menu": {},
   "number_sections": true,
   "sideBar": true,
   "skip_h1_title": false,
   "title_cell": "Table of Contents",
   "title_sidebar": "Contents",
   "toc_cell": false,
   "toc_position": {},
   "toc_section_display": true,
   "toc_window_display": false
  }
 },
 "nbformat": 4,
 "nbformat_minor": 5
}
